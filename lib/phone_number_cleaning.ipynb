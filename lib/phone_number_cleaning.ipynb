{
 "cells": [
  {
   "cell_type": "code",
   "execution_count": 9,
   "metadata": {},
   "outputs": [
    {
     "data": {
      "text/plain": [
       ":clean_phone_num"
      ]
     },
     "execution_count": 9,
     "metadata": {},
     "output_type": "execute_result"
    }
   ],
   "source": [
    "# phone number cleaning function\n",
    "# input: string\n",
    "# output: string\n",
    "# 1. remove all non-numeric characters\n",
    "# 2. if number is 10 digits, assume it's good\n",
    "# 3. if number is 11 digits and the first number is 1, trim the 1 and use the first 10 digits\n",
    "# 4. if the number is 11 digits and the first number is not 1, then it is a bad number\n",
    "# 5. if the number is more than 11 digits, assume it is a bad number\n",
    "# 6. if the number is less than 10 digits, assume it is a bad number\n",
    "def clean_phone_num(number)\n",
    "  if number.length == 10\n",
    "    number\n",
    "  elsif number.length == 11 and number[0] == '1'\n",
    "    number[1..10]\n",
    "  else number.length == 11 and number[0] != '1' or number.length < 10 or number.length > 11\n",
    "    '0000000000'\n",
    "  end\n",
    "end\n",
    " "
   ]
  },
  {
   "cell_type": "code",
   "execution_count": 11,
   "metadata": {},
   "outputs": [
    {
     "data": {
      "text/plain": [
       "\"5182569886\""
      ]
     },
     "execution_count": 11,
     "metadata": {},
     "output_type": "execute_result"
    }
   ],
   "source": [
    "clean_phone_num('15182569886')"
   ]
  },
  {
   "cell_type": "code",
   "execution_count": null,
   "metadata": {},
   "outputs": [],
   "source": []
  }
 ],
 "metadata": {
  "kernelspec": {
   "display_name": "Ruby 3.1.2",
   "language": "ruby",
   "name": "ruby"
  },
  "language_info": {
   "file_extension": ".rb",
   "mimetype": "application/x-ruby",
   "name": "ruby",
   "version": "3.1.2"
  },
  "orig_nbformat": 4
 },
 "nbformat": 4,
 "nbformat_minor": 2
}
