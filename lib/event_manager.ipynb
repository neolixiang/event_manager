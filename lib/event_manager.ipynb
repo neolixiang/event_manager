{
 "cells": [
  {
   "cell_type": "code",
   "execution_count": 3,
   "metadata": {},
   "outputs": [
    {
     "name": "stdout",
     "output_type": "stream",
     "text": [
      "Event Manager Initialized!\n"
     ]
    }
   ],
   "source": [
    "require 'csv'\n",
    "puts 'Event Manager Initialized!'"
   ]
  },
  {
   "cell_type": "code",
   "execution_count": 10,
   "metadata": {},
   "outputs": [
    {
     "name": "stdout",
     "output_type": "stream",
     "text": [
      "Allison 20010\n",
      "SArah 20009\n",
      "Sarah 33703\n",
      "David 07306\n",
      "Chris 00000\n",
      "Aya 90210\n",
      "Mary Kate 21230\n",
      "Audrey 95667\n",
      "Shiyu 96734\n",
      "Eli 92037\n",
      "Colin 02703\n",
      "Megan 43201\n",
      "Meggie 94611\n",
      "Laura 00924\n",
      "Paul 14517\n",
      "Shannon 03082\n",
      "Shannon 98122\n",
      "Nash 98122\n",
      "Amanda 14841\n"
     ]
    },
    {
     "data": {
      "text/plain": [
       "2126"
      ]
     },
     "execution_count": 10,
     "metadata": {},
     "output_type": "execute_result"
    }
   ],
   "source": [
    "contents = CSV.open(\n",
    "  '../event_attendees.csv',\n",
    "  headers: true, # TBD - does it mean that this dataset has a header row?\n",
    "  header_converters: :symbol # what does this mean actually?\n",
    ")\n",
    "\n",
    "contents.each do |row|\n",
    "  name = row[:first_name]\n",
    "  zipcode = row[:zipcode]\n",
    "  if zipcode.nil? # otherwise the `length` method cannot be applied to a nil value\n",
    "    zipcode = '00000' \n",
    "  elsif zipcode.length < 5\n",
    "    zipcode = zipcode.rjust(5, '0') # right-justify a string by padding it with a specific character\n",
    "  elsif zipcode.length > 5\n",
    "    zipcode = zipcode[0..4]\n",
    "  end\n",
    "\n",
    "  puts \"#{name} #{zipcode}\"\n",
    "end"
   ]
  },
  {
   "cell_type": "code",
   "execution_count": null,
   "metadata": {},
   "outputs": [],
   "source": []
  },
  {
   "cell_type": "code",
   "execution_count": null,
   "metadata": {},
   "outputs": [],
   "source": []
  }
 ],
 "metadata": {
  "kernelspec": {
   "display_name": "Ruby 3.1.2",
   "language": "ruby",
   "name": "ruby"
  },
  "language_info": {
   "file_extension": ".rb",
   "mimetype": "application/x-ruby",
   "name": "ruby",
   "version": "3.1.2"
  },
  "orig_nbformat": 4
 },
 "nbformat": 4,
 "nbformat_minor": 2
}
